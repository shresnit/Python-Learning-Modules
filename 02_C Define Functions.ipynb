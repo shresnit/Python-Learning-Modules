{
 "cells": [
  {
   "cell_type": "markdown",
   "id": "4208b499",
   "metadata": {},
   "source": [
    "### Customized Functions\n",
    "\n",
    "Define your own function to perform specific tasks"
   ]
  },
  {
   "cell_type": "markdown",
   "id": "f41c364e",
   "metadata": {},
   "source": [
    "print(\"this\")\n",
    "type(123.4)\n",
    "len(\"this is a string\")\n",
    "round(78.6)\n",
    "input(\"add something: \")"
   ]
  },
  {
   "cell_type": "code",
   "execution_count": 79,
   "id": "f34e4c39",
   "metadata": {},
   "outputs": [
    {
     "data": {
      "text/plain": [
       "140"
      ]
     },
     "execution_count": 79,
     "metadata": {},
     "output_type": "execute_result"
    }
   ],
   "source": [
    "# def is used to define a new function and store it to notebook memory\n",
    "\n",
    "# create a function to add to given numbers\n",
    "\n",
    "def add(x, y): \n",
    "    return x + y\n",
    "\n",
    "# replace with specific numbers\n",
    "\n",
    "add(4, 10)"
   ]
  },
  {
   "cell_type": "code",
   "execution_count": 60,
   "id": "bda3a6ce",
   "metadata": {},
   "outputs": [
    {
     "data": {
      "text/plain": [
       "800"
      ]
     },
     "execution_count": 60,
     "metadata": {},
     "output_type": "execute_result"
    }
   ],
   "source": [
    "def multiply(x,y):\n",
    "    return x*y\n",
    "    \n",
    "multiply(100, 8)"
   ]
  },
  {
   "cell_type": "code",
   "execution_count": 61,
   "id": "a8ac8cdb",
   "metadata": {},
   "outputs": [],
   "source": [
    "def my_function():\n",
    "    x = rand.randint(0, 50)\n",
    "    print(x)\n",
    "    print(\"#\" * x)"
   ]
  },
  {
   "cell_type": "code",
   "execution_count": 63,
   "id": "7bc34907",
   "metadata": {},
   "outputs": [
    {
     "name": "stdout",
     "output_type": "stream",
     "text": [
      "33\n",
      "#################################\n",
      "2\n",
      "##\n",
      "30\n",
      "##############################\n"
     ]
    }
   ],
   "source": [
    "# call the function three separate times\n",
    "    \n",
    "my_function()\n",
    "my_function()\n",
    "my_function()"
   ]
  },
  {
   "cell_type": "code",
   "execution_count": 64,
   "id": "fd91a681",
   "metadata": {},
   "outputs": [
    {
     "name": "stdout",
     "output_type": "stream",
     "text": [
      "5\n",
      "@@@@@\n",
      "9\n",
      "@@@@@@@@@\n",
      "10\n",
      "@@@@@@@@@@\n"
     ]
    }
   ],
   "source": [
    "def my_function2(start_no, end_no):\n",
    "    x = rand.randint(start_no, end_no)\n",
    "    print(x)\n",
    "    print(\"@\" * x)\n",
    "    \n",
    "# call function three separate times with different input \n",
    "    \n",
    "my_function2(1, 5)\n",
    "my_function2(1, 10)\n",
    "my_function2(10, 14)"
   ]
  },
  {
   "cell_type": "code",
   "execution_count": 65,
   "id": "9f649eb0",
   "metadata": {},
   "outputs": [],
   "source": [
    "# returning specific values with a function \n",
    "\n",
    "def add(a, b):\n",
    "    print(f\"ADDING {a} + {b}\")\n",
    "    return a + b\n",
    "\n",
    "def subtract(a, b):\n",
    "    print(f\"SUBTRACTING {a} - {b}\")\n",
    "    return a - b\n",
    "\n",
    "def multiply(a, b):\n",
    "    print(f\"MULTIPLYING {a} * {b}\")\n",
    "    return a * b\n",
    "\n",
    "def divide(a, b):\n",
    "    print(f\"DIVIDING {a} / {b}\")\n",
    "    return a / b"
   ]
  },
  {
   "cell_type": "code",
   "execution_count": 66,
   "id": "bb2f9249",
   "metadata": {},
   "outputs": [
    {
     "name": "stdout",
     "output_type": "stream",
     "text": [
      "ADDING 2 + 6\n",
      "SUBTRACTING 2 - 6\n",
      "MULTIPLYING 2 * 6\n",
      "DIVIDING 2 / 6\n"
     ]
    },
    {
     "data": {
      "text/plain": [
       "0.3333333333333333"
      ]
     },
     "execution_count": 66,
     "metadata": {},
     "output_type": "execute_result"
    }
   ],
   "source": [
    "add(2, 6)\n",
    "subtract(2, 6)\n",
    "multiply(2, 6)\n",
    "divide(2, 6)"
   ]
  },
  {
   "cell_type": "code",
   "execution_count": 67,
   "id": "2db40388",
   "metadata": {},
   "outputs": [
    {
     "name": "stdout",
     "output_type": "stream",
     "text": [
      "Let's do some math with just functions!\n",
      "Enter an integer: 4\n",
      "Enter a float: 4.5\n",
      "The choosen numbers are: 4 and 4.5. The results of our calculations are: \n",
      "----------\n",
      "ADDING 4 + 4.5\n",
      "SUBTRACTING 4 - 4.5\n",
      "MULTIPLYING 4 * 4.5\n",
      "DIVIDING 4 / 4.5\n",
      "----------\n",
      "Addition:\t8.5\n",
      "Subtraction:\t-0.5\n",
      "Multiplication:\t18.0\n",
      "Division:\t0.8888888888888888\n"
     ]
    }
   ],
   "source": [
    "# using your functions to do some math\n",
    "\n",
    "print(\"Let's do some math with just functions!\")\n",
    "\n",
    "n1 = int(input(\"Enter an integer: \"))\n",
    "n2 = float(input(\"Enter a float: \"))\n",
    "\n",
    "print(f\"The choosen numbers are: {n1} and {n2}. The results of our calculations are: \")\n",
    "\n",
    "print(\"-\" * 10)\n",
    "\n",
    "addition = add(n1, n2)\n",
    "subtraction = subtract(n1, n2)\n",
    "multiplication = multiply(n1, n2)\n",
    "division = divide(n1, n2)\n",
    "\n",
    "print(\"-\" * 10)\n",
    "\n",
    "print(f\"Addition:\\t{addition}\\nSubtraction:\\t{subtraction}\\nMultiplication:\\t{multiplication}\\nDivision:\\t{division}\")"
   ]
  },
  {
   "cell_type": "code",
   "execution_count": 69,
   "id": "b62b3395",
   "metadata": {},
   "outputs": [
    {
     "data": {
      "text/plain": [
       "3"
      ]
     },
     "execution_count": 69,
     "metadata": {},
     "output_type": "execute_result"
    }
   ],
   "source": [
    "# defining functions with constants\n",
    "\n",
    "def add(a, b, c):\n",
    "    return a + b + c\n",
    "\n",
    "add(1,1,1)"
   ]
  },
  {
   "cell_type": "code",
   "execution_count": 72,
   "id": "bb42189f",
   "metadata": {},
   "outputs": [
    {
     "data": {
      "text/plain": [
       "17"
      ]
     },
     "execution_count": 72,
     "metadata": {},
     "output_type": "execute_result"
    }
   ],
   "source": [
    "# defining a function with a constant \n",
    "\n",
    "def add(a, b, c = 10):\n",
    "    return a + b + c\n",
    "\n",
    "add(1, 6)"
   ]
  },
  {
   "cell_type": "code",
   "execution_count": 79,
   "id": "42a93971",
   "metadata": {},
   "outputs": [
    {
     "name": "stdout",
     "output_type": "stream",
     "text": [
      "Miss Piggy likes Kermit\n"
     ]
    }
   ],
   "source": [
    "# non-numeric functions \n",
    "\n",
    "def match(person1, person2):\n",
    "    print(person1 + \" likes \" + person2)\n",
    "\n",
    "name1 = \"Miss Piggy\"\n",
    "name2 = \"Kermit\"\n",
    "\n",
    "match(name1, name2)"
   ]
  },
  {
   "cell_type": "code",
   "execution_count": 27,
   "id": "3c5b5928",
   "metadata": {},
   "outputs": [
    {
     "name": "stdout",
     "output_type": "stream",
     "text": [
      "Nitesh learns Python\n"
     ]
    }
   ],
   "source": [
    "def love(person, course):\n",
    "    print(f\"{person} learns {course}\")\n",
    "          \n",
    "person = \"Nitesh\"\n",
    "course = \"Python\"\n",
    "\n",
    "love(person, course)"
   ]
  },
  {
   "cell_type": "code",
   "execution_count": 80,
   "id": "9c749ef0",
   "metadata": {},
   "outputs": [
    {
     "name": "stdout",
     "output_type": "stream",
     "text": [
      "Kermit likes Miss Piggy\n"
     ]
    }
   ],
   "source": [
    "# change the order of the arguments\n",
    "\n",
    "match(name2, name1)"
   ]
  },
  {
   "cell_type": "code",
   "execution_count": 28,
   "id": "6dd539c3",
   "metadata": {},
   "outputs": [
    {
     "name": "stdout",
     "output_type": "stream",
     "text": [
      "Python learns Nitesh\n"
     ]
    }
   ],
   "source": [
    "love(course, person)"
   ]
  },
  {
   "cell_type": "code",
   "execution_count": 82,
   "id": "62456aa8",
   "metadata": {},
   "outputs": [
    {
     "name": "stdout",
     "output_type": "stream",
     "text": [
      "return_val = 10\n",
      "x = 5\n"
     ]
    }
   ],
   "source": [
    "# more function examples\n",
    "\n",
    "def double_func(x):\n",
    "    x *= 2 # multiply value of x by 2\n",
    "    return x\n",
    "\n",
    "\n",
    "# use the function to define a variable called 'return_val'\n",
    "\n",
    "x = 5\n",
    "\n",
    "return_val = double_func(x)\n",
    "\n",
    "print(f\"return_val = {return_val}\")\n",
    "print(f\"x = {x}\")"
   ]
  },
  {
   "cell_type": "code",
   "execution_count": 83,
   "id": "cb8a2968",
   "metadata": {},
   "outputs": [
    {
     "name": "stdout",
     "output_type": "stream",
     "text": [
      "return_val = what?what?\n",
      "x = what?\n"
     ]
    }
   ],
   "source": [
    "# x can also be a string\n",
    "\n",
    "x = \"what?\"\n",
    "\n",
    "return_val = double_func(x)\n",
    "\n",
    "print(f\"return_val = {return_val}\")\n",
    "print(f\"x = {x}\")"
   ]
  },
  {
   "cell_type": "markdown",
   "id": "cb8519e8",
   "metadata": {},
   "source": [
    "### Exercise 3:\n",
    "\n",
    "Write a function called \"compute\" to calculate the area and perimeter of a rectangle. The length and width values should be user input. Your output should be something like this:\n",
    "\n",
    "    Please enter length: 25\n",
    "    Please enter width: 10\n",
    "\n",
    "    Area is 250\n",
    "    Perimeter is 70\n",
    "\n",
    "<b>If you aren't sure the equation for area and perimeter, you will have to search that first before creating your function!</b>"
   ]
  },
  {
   "cell_type": "code",
   "execution_count": 85,
   "id": "6ecde495",
   "metadata": {},
   "outputs": [
    {
     "name": "stdout",
     "output_type": "stream",
     "text": [
      "Enter the length of the rectangle in cm: 2\n",
      "Enter the width of the rectangle in cm: 2\n",
      "Area of the rectangle is 4.0 sqaure cm.\n",
      "Perimeter of the rectangle is 8.0 cm\n"
     ]
    }
   ],
   "source": [
    "def compute(l, w):\n",
    "    Area = l * w\n",
    "    Perimeter = (l+w)*2\n",
    "    print(f\"Area of the rectangle is {Area} sqaure cm.\")\n",
    "    print(f\"Perimeter of the rectangle is {Perimeter} cm\")\n",
    "    \n",
    "l = float(input(\"Enter the length of the rectangle in cm: \"))\n",
    "w = float(input(\"Enter the width of the rectangle in cm: \"))\n",
    "\n",
    "compute(l, w)"
   ]
  },
  {
   "cell_type": "code",
   "execution_count": null,
   "id": "a05f38c4",
   "metadata": {},
   "outputs": [],
   "source": []
  },
  {
   "cell_type": "code",
   "execution_count": null,
   "id": "a1f901a9",
   "metadata": {},
   "outputs": [],
   "source": []
  },
  {
   "cell_type": "code",
   "execution_count": null,
   "id": "0def1182",
   "metadata": {},
   "outputs": [],
   "source": []
  },
  {
   "cell_type": "code",
   "execution_count": 4,
   "id": "c7d50112",
   "metadata": {},
   "outputs": [
    {
     "name": "stdout",
     "output_type": "stream",
     "text": [
      "The Area and Perimeter Program\n",
      "Please enter a length:  56\n",
      "please enter a width:  76\n",
      "Area is 4256\n",
      "Perimeter is 264\n"
     ]
    }
   ],
   "source": [
    "# defining the function \n",
    "\n",
    "def compute(l, w):\n",
    "    A = l * w\n",
    "    P = (l + w) * 2\n",
    "    print(f\"Area is {A}\")\n",
    "    print(f\"Perimeter is {P}\")\n",
    "\n",
    "# using the function to compute specific values\n",
    "\n",
    "print(\"The Area and Perimeter Program\")  \n",
    "\n",
    "length = int(input(\"Please enter a length:  \"))\n",
    "width = int(input(\"please enter a width:  \"))\n",
    "\n",
    "# apply the function to the user defined values \n",
    "\n",
    "compute(length, width)"
   ]
  },
  {
   "cell_type": "code",
   "execution_count": null,
   "id": "ee6f954e",
   "metadata": {},
   "outputs": [],
   "source": []
  }
 ],
 "metadata": {
  "kernelspec": {
   "display_name": "Python 3 (ipykernel)",
   "language": "python",
   "name": "python3"
  },
  "language_info": {
   "codemirror_mode": {
    "name": "ipython",
    "version": 3
   },
   "file_extension": ".py",
   "mimetype": "text/x-python",
   "name": "python",
   "nbconvert_exporter": "python",
   "pygments_lexer": "ipython3",
   "version": "3.9.7"
  }
 },
 "nbformat": 4,
 "nbformat_minor": 5
}
