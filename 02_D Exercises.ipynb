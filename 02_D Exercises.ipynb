{
 "cells": [
  {
   "cell_type": "markdown",
   "id": "c209b646",
   "metadata": {},
   "source": [
    "### 02_D Exercises"
   ]
  },
  {
   "cell_type": "markdown",
   "id": "869ebfd6",
   "metadata": {},
   "source": [
    "1. Round 4.5667 to the nearest hundreth (2 decimals) using a build-in function, round()."
   ]
  },
  {
   "cell_type": "code",
   "execution_count": null,
   "id": "123658aa",
   "metadata": {},
   "outputs": [],
   "source": [
    "round(4.5667, 2)"
   ]
  },
  {
   "cell_type": "markdown",
   "id": "9d3f352c",
   "metadata": {},
   "source": [
    "2. Convert \"657\" to an integer data type"
   ]
  },
  {
   "cell_type": "code",
   "execution_count": 1,
   "id": "d5a67683",
   "metadata": {},
   "outputs": [
    {
     "data": {
      "text/plain": [
       "657"
      ]
     },
     "execution_count": 1,
     "metadata": {},
     "output_type": "execute_result"
    }
   ],
   "source": [
    "int(\"657\")"
   ]
  },
  {
   "cell_type": "markdown",
   "id": "a36f06d4",
   "metadata": {},
   "source": [
    "3. Write a program to get two numbers from a user. Then, create a 6-digit code that is a series of randomly generated numbers between the two numbers given by the user. Print the 6-digit code so all digits are separated by a dash. "
   ]
  },
  {
   "cell_type": "code",
   "execution_count": 15,
   "id": "021c92d4",
   "metadata": {},
   "outputs": [
    {
     "name": "stdout",
     "output_type": "stream",
     "text": [
      "Enter first one digit number: 1\n",
      "Enter last one digit number: 9\n",
      "1-4-3-1-9-1\n"
     ]
    }
   ],
   "source": [
    "import random as rand\n",
    "\n",
    "n1 = int(input(\"Enter first one digit number: \"))\n",
    "n2 = int(input(\"Enter last one digit number: \"))\n",
    "\n",
    "print(\n",
    "    rand.randint(n1, n2),\n",
    "    rand.randint(n1, n2),\n",
    "    rand.randint(n1, n2),\n",
    "    rand.randint(n1, n2),\n",
    "    rand.randint(n1, n2),\n",
    "    rand.randint(n1, n2),  sep = \"-\")\n"
   ]
  },
  {
   "cell_type": "markdown",
   "id": "ee1441a1",
   "metadata": {},
   "source": [
    "4. Write a program to remove ALL the white spaces from the following text:\n",
    "\n",
    "        Hickory, dickory, dock,     \n",
    "        The mouse ran up the clock.   \n",
    "        The clock struck one,   \n",
    "        The mouse ran down,                      \n",
    "        Hickory, dickory, dock                  "
   ]
  },
  {
   "cell_type": "code",
   "execution_count": 22,
   "id": "8bf680f1",
   "metadata": {},
   "outputs": [],
   "source": [
    "paragraph = \"\"\"Hickory, dickory, dock,     \n",
    " The mouse ran up the clock.   \n",
    " The clock struck one,   \n",
    " The mouse ran down,                      \n",
    " Hickory, dickory, dock                  \"\"\""
   ]
  },
  {
   "cell_type": "code",
   "execution_count": 23,
   "id": "59d9c718",
   "metadata": {},
   "outputs": [
    {
     "name": "stdout",
     "output_type": "stream",
     "text": [
      "Hickory,dickory,dock,\n",
      "Themouseranuptheclock.\n",
      "Theclockstruckone,\n",
      "Themouserandown,\n",
      "Hickory,dickory,dock\n"
     ]
    }
   ],
   "source": [
    "paragraph = paragraph.replace(\" \", \"\")\n",
    "print(paragraph)"
   ]
  },
  {
   "cell_type": "markdown",
   "id": "72d87b5b",
   "metadata": {},
   "source": [
    "5. Write a function to calculate the miles per gallon. Get a miles driven and gallons used from a user and call your function to calculate the miles per gallon."
   ]
  },
  {
   "cell_type": "code",
   "execution_count": 2,
   "id": "27be7372",
   "metadata": {},
   "outputs": [
    {
     "name": "stdout",
     "output_type": "stream",
     "text": [
      "Calculation of miles per gallon\n",
      "Miles Driven: 100\n",
      "Gallons Used: 4\n",
      "the mileage is  25.00 miles per gallon\n"
     ]
    }
   ],
   "source": [
    "def compute(m, g):\n",
    "    mileage = m / g\n",
    "    print(f\"the mileage is {mileage: .2f} miles per gallon\")\n",
    "    \n",
    "print(\"Calculation of miles per gallon\")   \n",
    "\n",
    "miles = float(input(\"Miles Driven: \"))\n",
    "gallon = float(input(\"Gallons Used: \"))\n",
    "\n",
    "compute(miles, gallon)"
   ]
  },
  {
   "cell_type": "markdown",
   "id": "1f3942b8",
   "metadata": {},
   "source": [
    "6. Enhance the <b>compute()</b> function created during Module 2. Enhance the function to compute a circle's area and circumference where:\n",
    "\n",
    " - circle's area = 3.14 X (radius X radius)   \n",
    " - circle's circumference = 3.14 X diameter"
   ]
  },
  {
   "cell_type": "code",
   "execution_count": 34,
   "id": "df43daca",
   "metadata": {},
   "outputs": [
    {
     "name": "stdout",
     "output_type": "stream",
     "text": [
      "The Area and Diameter of a Circle\n",
      "Please enter a length of the radius in inch:  100\n",
      "Area is  31400.0 square inch\n",
      "Circumferenc is  628.0 inch\n"
     ]
    }
   ],
   "source": [
    "def compute(r):\n",
    "    A = 3.14 * (r * r)\n",
    "    C = 3.14 * (r + r)\n",
    "    print(f\"Area is {A: .1f} square inch\")\n",
    "    print(f\"Circumferenc is {C: .1f} inch\")\n",
    "\n",
    "\n",
    "print(\"The Area and Diameter of a Circle\")  \n",
    "\n",
    "radius = int(input(\"Please enter a length of the radius in inch:  \"))\n",
    "\n",
    "compute(radius)"
   ]
  },
  {
   "cell_type": "code",
   "execution_count": null,
   "id": "fa8de89a",
   "metadata": {},
   "outputs": [],
   "source": []
  },
  {
   "cell_type": "markdown",
   "id": "4c5d83bb",
   "metadata": {},
   "source": [
    "7. Write a function called multiply_two() that accepts two parameters. The function should print a message like '15 * 2 = 30'.  Randomly generate two numbers between 1 and 100, then call the function with the two random numbers."
   ]
  },
  {
   "cell_type": "code",
   "execution_count": 5,
   "id": "fe5ca2dc",
   "metadata": {},
   "outputs": [
    {
     "name": "stdout",
     "output_type": "stream",
     "text": [
      "9 * 81 = 729\n"
     ]
    }
   ],
   "source": [
    "import random as rand\n",
    "\n",
    "num1 = rand.randint(1, 100)\n",
    "num2 = rand.randint(1, 100)\n",
    "\n",
    "def multiply_two(x, y):\n",
    "      \n",
    "    print(f\"{x} * {y} = {x * y}\")\n",
    "    \n",
    "    \n",
    "multiply_two(num1, num2)\n",
    "    \n",
    "    \n"
   ]
  },
  {
   "cell_type": "markdown",
   "id": "36865477",
   "metadata": {},
   "source": [
    "8. Create a function for a multiplication table.  Get a number from a user and then call you function which produces a multiplication table for that number.\n",
    "The output should look something like this:\n",
    "\n",
    "        Enter a number: 3\n",
    "        3 X 1 = 3\n",
    "        3 X 2 = 6\n",
    "        3 X 3 = 9\n",
    "        3 X 4 = 12\n",
    "        3 X 5 = 15\n",
    "        3 X 6 = 18\n",
    "        3 X 7 = 21\n",
    "        3 X 8 = 24\n",
    "        3 X 9 = 27"
   ]
  },
  {
   "cell_type": "code",
   "execution_count": 8,
   "id": "b023e863",
   "metadata": {},
   "outputs": [
    {
     "name": "stdout",
     "output_type": "stream",
     "text": [
      "Enter a number5\n",
      "5 x 1 = 5\n",
      "5 x 2 = 10\n",
      "5 x 3 = 15\n",
      "5 x 4 = 20\n",
      "5 x 5 = 25\n",
      "5 x 6 = 30\n",
      "5 x 7 = 35\n",
      "5 x 8 = 40\n",
      "5 x 9 = 45\n"
     ]
    }
   ],
   "source": [
    "def multi_table(x):\n",
    "    print(f\"{x} x 1 = {x * 1}\")\n",
    "    print(f\"{x} x 2 = {x * 2}\")\n",
    "    print(f\"{x} x 3 = {x * 3}\")\n",
    "    print(f\"{x} x 4 = {x * 4}\")\n",
    "    print(f\"{x} x 5 = {x * 5}\")\n",
    "    print(f\"{x} x 6 = {x * 6}\")\n",
    "    print(f\"{x} x 7 = {x * 7}\")\n",
    "    print(f\"{x} x 8 = {x * 8}\")\n",
    "    print(f\"{x} x 9 = {x * 9}\")\n",
    "    \n",
    "num = int(input(\"Enter a number\"))\n",
    "\n",
    "multi_table(num)"
   ]
  },
  {
   "cell_type": "code",
   "execution_count": null,
   "id": "563c8445",
   "metadata": {},
   "outputs": [],
   "source": []
  }
 ],
 "metadata": {
  "kernelspec": {
   "display_name": "Python 3 (ipykernel)",
   "language": "python",
   "name": "python3"
  },
  "language_info": {
   "codemirror_mode": {
    "name": "ipython",
    "version": 3
   },
   "file_extension": ".py",
   "mimetype": "text/x-python",
   "name": "python",
   "nbconvert_exporter": "python",
   "pygments_lexer": "ipython3",
   "version": "3.9.7"
  }
 },
 "nbformat": 4,
 "nbformat_minor": 5
}
