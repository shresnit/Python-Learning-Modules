{
 "cells": [
  {
   "cell_type": "markdown",
   "id": "38d51a88",
   "metadata": {},
   "source": [
    "### Libraries: Random Number Generator \n",
    "\n",
    "Libraries are a collection of functions that can only be accessed by first importing the library into your notebook. Python has a function that allows you to generate a random number - this function is stored in the library called \"Random\". It is good practice to import all the libraries you'll need at the beginning of your notebook.  "
   ]
  },
  {
   "cell_type": "code",
   "execution_count": 6,
   "id": "0db23e80",
   "metadata": {},
   "outputs": [
    {
     "data": {
      "text/plain": [
       "0.9108703445813533"
      ]
     },
     "execution_count": 6,
     "metadata": {},
     "output_type": "execute_result"
    }
   ],
   "source": [
    "# import a library to use specific functions\n",
    "\n",
    "import random\n",
    "\n",
    "# now that the library is imported, you can call specific functions\n",
    "# below is the .random() function from the 'random' library\n",
    "\n",
    "random.random()"
   ]
  },
  {
   "cell_type": "code",
   "execution_count": 8,
   "id": "3444abc3",
   "metadata": {},
   "outputs": [
    {
     "data": {
      "text/plain": [
       "0.3515360995477619"
      ]
     },
     "execution_count": 8,
     "metadata": {},
     "output_type": "execute_result"
    }
   ],
   "source": [
    "# import a library and give it a nickname\n",
    "\n",
    "import random as rand\n",
    "\n",
    "# now you will use the nickname (not the full name) when you want to call a func\n",
    "\n",
    "rand.random()"
   ]
  },
  {
   "cell_type": "code",
   "execution_count": 11,
   "id": "ee982cac",
   "metadata": {},
   "outputs": [
    {
     "data": {
      "text/plain": [
       "25"
      ]
     },
     "execution_count": 11,
     "metadata": {},
     "output_type": "execute_result"
    }
   ],
   "source": [
    "# print a random integer\n",
    "# rand.randint(start #, end #); start and end are inclusive\n",
    "\n",
    "rand.randint(0, 100)"
   ]
  },
  {
   "cell_type": "code",
   "execution_count": 13,
   "id": "b5fb92f3",
   "metadata": {},
   "outputs": [
    {
     "name": "stdout",
     "output_type": "stream",
     "text": [
      "2\n",
      "5\n",
      "5\n",
      "2\n",
      "5\n"
     ]
    }
   ],
   "source": [
    "# print a series of random integers between 1 and 5\n",
    "\n",
    "print(rand.randint(1, 5))\n",
    "print(rand.randint(1, 5))\n",
    "print(rand.randint(1, 5))\n",
    "print(rand.randint(1, 5))\n",
    "print(rand.randint(1, 5))"
   ]
  },
  {
   "cell_type": "markdown",
   "id": "8abd8ac1",
   "metadata": {},
   "source": [
    "### Exercise\n",
    "Generate a random number between two values. The two values should be provided by a user."
   ]
  },
  {
   "cell_type": "code",
   "execution_count": 35,
   "id": "f5bee349",
   "metadata": {},
   "outputs": [
    {
     "name": "stdout",
     "output_type": "stream",
     "text": [
      "Give me a number: 1\n",
      "Give me another number: 9\n",
      "Your random number is 6.\n"
     ]
    }
   ],
   "source": [
    "import random as rand \n",
    "\n",
    "n1 = int(input(\"Give me a number: \"))\n",
    "n2 = int(input(\"Give me another number: \"))\n",
    "print(f\"Your random number is {rand.randint(n1, n2)}.\")"
   ]
  }
 ],
 "metadata": {
  "kernelspec": {
   "display_name": "Python 3 (ipykernel)",
   "language": "python",
   "name": "python3"
  },
  "language_info": {
   "codemirror_mode": {
    "name": "ipython",
    "version": 3
   },
   "file_extension": ".py",
   "mimetype": "text/x-python",
   "name": "python",
   "nbconvert_exporter": "python",
   "pygments_lexer": "ipython3",
   "version": "3.9.7"
  }
 },
 "nbformat": 4,
 "nbformat_minor": 5
}
