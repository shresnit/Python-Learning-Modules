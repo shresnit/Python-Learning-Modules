{
 "cells": [
  {
   "cell_type": "markdown",
   "id": "4a1f6221",
   "metadata": {},
   "source": [
    "### Built-in Functions: round (arg, [decimal places])\n",
    "\n",
    "Round a number to a whole number or to a specific number of decimal places"
   ]
  },
  {
   "cell_type": "code",
   "execution_count": 14,
   "id": "08d762cf",
   "metadata": {},
   "outputs": [
    {
     "data": {
      "text/plain": [
       "3"
      ]
     },
     "execution_count": 14,
     "metadata": {},
     "output_type": "execute_result"
    }
   ],
   "source": [
    "# round up to the nearest whole number\n",
    "\n",
    "round(3.145857)"
   ]
  },
  {
   "cell_type": "code",
   "execution_count": 15,
   "id": "4610ca24",
   "metadata": {},
   "outputs": [
    {
     "data": {
      "text/plain": [
       "3.15"
      ]
     },
     "execution_count": 15,
     "metadata": {},
     "output_type": "execute_result"
    }
   ],
   "source": [
    "# round a number to '0' decimal places \n",
    "# this is the default, will be the same as above\n",
    "\n",
    "round(3.145857, 2)"
   ]
  },
  {
   "cell_type": "code",
   "execution_count": 16,
   "id": "7e1112d7",
   "metadata": {},
   "outputs": [
    {
     "data": {
      "text/plain": [
       "3.1"
      ]
     },
     "execution_count": 16,
     "metadata": {},
     "output_type": "execute_result"
    }
   ],
   "source": [
    "# round a number to '1' decimal places \n",
    "\n",
    "round(3.142857, 1)"
   ]
  },
  {
   "cell_type": "code",
   "execution_count": 17,
   "id": "8f855392",
   "metadata": {},
   "outputs": [
    {
     "data": {
      "text/plain": [
       "3.14286"
      ]
     },
     "execution_count": 17,
     "metadata": {},
     "output_type": "execute_result"
    }
   ],
   "source": [
    "# round a number to '5' decimal places \n",
    "\n",
    "round(3.142857, 5)"
   ]
  },
  {
   "cell_type": "markdown",
   "id": "443bfa4f",
   "metadata": {},
   "source": [
    "### Built-in Functions: len (arg)\n",
    "\n",
    "Return the number of items in an object (ex. word, sentence, list, etc.)"
   ]
  },
  {
   "cell_type": "code",
   "execution_count": 18,
   "id": "91f8cfe9",
   "metadata": {},
   "outputs": [
    {
     "data": {
      "text/plain": [
       "12"
      ]
     },
     "execution_count": 18,
     "metadata": {},
     "output_type": "execute_result"
    }
   ],
   "source": [
    "# when the object is a string len() returns the number of characters\n",
    "\n",
    "len(\"hello, world\")"
   ]
  },
  {
   "cell_type": "code",
   "execution_count": 19,
   "id": "7ae2882d",
   "metadata": {},
   "outputs": [
    {
     "data": {
      "text/plain": [
       "13"
      ]
     },
     "execution_count": 19,
     "metadata": {},
     "output_type": "execute_result"
    }
   ],
   "source": [
    "# the len function also includes white spaces as characters\n",
    "\n",
    "len(\"      t      \")"
   ]
  },
  {
   "cell_type": "code",
   "execution_count": 31,
   "id": "2252a235",
   "metadata": {},
   "outputs": [
    {
     "data": {
      "text/plain": [
       "9"
      ]
     },
     "execution_count": 31,
     "metadata": {},
     "output_type": "execute_result"
    }
   ],
   "source": [
    "# what is the length of this number?\n",
    "\n",
    "len(\"123.23455\")"
   ]
  },
  {
   "cell_type": "code",
   "execution_count": 32,
   "id": "033d580c",
   "metadata": {},
   "outputs": [
    {
     "data": {
      "text/plain": [
       "0"
      ]
     },
     "execution_count": 32,
     "metadata": {},
     "output_type": "execute_result"
    }
   ],
   "source": [
    "len(\"\")"
   ]
  },
  {
   "cell_type": "markdown",
   "id": "85b24ddc",
   "metadata": {},
   "source": [
    "### Exercise 1: \n",
    "\n",
    "Generate a random number between two values. The two values should be provided by a user. "
   ]
  },
  {
   "cell_type": "code",
   "execution_count": 33,
   "id": "735098e6",
   "metadata": {},
   "outputs": [
    {
     "name": "stdout",
     "output_type": "stream",
     "text": [
      "Give me a number: 1\n",
      "Give me another number: 9\n"
     ]
    }
   ],
   "source": [
    "import random as rand \n",
    "\n",
    "n1 = int(input(\"Give me a number: \"))\n",
    "n2 = int(input(\"Give me another number: \"))"
   ]
  },
  {
   "cell_type": "code",
   "execution_count": 34,
   "id": "df21d2ef",
   "metadata": {},
   "outputs": [
    {
     "data": {
      "text/plain": [
       "7"
      ]
     },
     "execution_count": 34,
     "metadata": {},
     "output_type": "execute_result"
    }
   ],
   "source": [
    "rand.randint(n1, n2)"
   ]
  },
  {
   "cell_type": "markdown",
   "id": "a8efa163",
   "metadata": {},
   "source": [
    "### String Methods\n",
    "\n",
    "There are many functions that are specific for use with strings. "
   ]
  },
  {
   "cell_type": "code",
   "execution_count": 35,
   "id": "2a00d436",
   "metadata": {},
   "outputs": [],
   "source": [
    "message = \"  learn to code in PYTHON  \""
   ]
  },
  {
   "cell_type": "code",
   "execution_count": 36,
   "id": "79507d25",
   "metadata": {},
   "outputs": [
    {
     "data": {
      "text/plain": [
       "27"
      ]
     },
     "execution_count": 36,
     "metadata": {},
     "output_type": "execute_result"
    }
   ],
   "source": [
    "# length of string\n",
    "\n",
    "len(message)"
   ]
  },
  {
   "cell_type": "markdown",
   "id": "d49cf28c",
   "metadata": {},
   "source": [
    "### .title(), .upper(), .lower()"
   ]
  },
  {
   "cell_type": "code",
   "execution_count": 38,
   "id": "eb866261",
   "metadata": {},
   "outputs": [
    {
     "data": {
      "text/plain": [
       "'  Learn To Code In Python  '"
      ]
     },
     "execution_count": 38,
     "metadata": {},
     "output_type": "execute_result"
    }
   ],
   "source": [
    "# change the case of the string to 'title case'\n",
    "\n",
    "message.title()"
   ]
  },
  {
   "cell_type": "code",
   "execution_count": 39,
   "id": "18c3cab3",
   "metadata": {},
   "outputs": [
    {
     "data": {
      "text/plain": [
       "'  LEARN TO CODE IN PYTHON  '"
      ]
     },
     "execution_count": 39,
     "metadata": {},
     "output_type": "execute_result"
    }
   ],
   "source": [
    "# change the case of the string to 'upper case'\n",
    "\n",
    "message.upper()"
   ]
  },
  {
   "cell_type": "code",
   "execution_count": 40,
   "id": "a1dd0969",
   "metadata": {},
   "outputs": [
    {
     "data": {
      "text/plain": [
       "'  learn to code in python  '"
      ]
     },
     "execution_count": 40,
     "metadata": {},
     "output_type": "execute_result"
    }
   ],
   "source": [
    "# change the case of the string to 'lower case'\n",
    "\n",
    "message.lower()"
   ]
  },
  {
   "cell_type": "markdown",
   "id": "49aadba8",
   "metadata": {},
   "source": [
    "### .strip(), .lstrip(), .rstrip()"
   ]
  },
  {
   "cell_type": "code",
   "execution_count": 41,
   "id": "e2908881",
   "metadata": {},
   "outputs": [
    {
     "name": "stdout",
     "output_type": "stream",
     "text": [
      ">>>   This in Nites Shrestha   <<<\n"
     ]
    },
    {
     "data": {
      "text/plain": [
       "'This in Nites Shrestha'"
      ]
     },
     "execution_count": 41,
     "metadata": {},
     "output_type": "execute_result"
    }
   ],
   "source": [
    "# strip blank spaces from entire string\n",
    "\n",
    "message = \"   This in Nites Shrestha   \"\n",
    "\n",
    "print(\">>>\" + message + \"<<<\")\n",
    "\n",
    "message.strip()"
   ]
  },
  {
   "cell_type": "code",
   "execution_count": 42,
   "id": "492c000a",
   "metadata": {},
   "outputs": [
    {
     "data": {
      "text/plain": [
       "22"
      ]
     },
     "execution_count": 42,
     "metadata": {},
     "output_type": "execute_result"
    }
   ],
   "source": [
    "# length of string without blank spaces \n",
    "\n",
    "len(message.strip())"
   ]
  },
  {
   "cell_type": "code",
   "execution_count": 43,
   "id": "559833b3",
   "metadata": {},
   "outputs": [
    {
     "name": "stdout",
     "output_type": "stream",
     "text": [
      ">>>   This in Nites Shrestha   <<<\n"
     ]
    },
    {
     "data": {
      "text/plain": [
       "'This in Nites Shrestha   '"
      ]
     },
     "execution_count": 43,
     "metadata": {},
     "output_type": "execute_result"
    }
   ],
   "source": [
    "# strip blank spaces from left side of string\n",
    "\n",
    "print(\">>>\" + message + \"<<<\")\n",
    "\n",
    "message.lstrip()"
   ]
  },
  {
   "cell_type": "code",
   "execution_count": 44,
   "id": "5e0997ee",
   "metadata": {},
   "outputs": [
    {
     "name": "stdout",
     "output_type": "stream",
     "text": [
      ">>>   This in Nites Shrestha   <<<\n"
     ]
    },
    {
     "data": {
      "text/plain": [
       "'   This in Nites Shrestha'"
      ]
     },
     "execution_count": 44,
     "metadata": {},
     "output_type": "execute_result"
    }
   ],
   "source": [
    "# strip blank spaces from right side of string\n",
    "\n",
    "print(\">>>\" + message + \"<<<\")\n",
    "\n",
    "message.rstrip()"
   ]
  },
  {
   "cell_type": "markdown",
   "id": "b472687c",
   "metadata": {},
   "source": [
    "### .count()"
   ]
  },
  {
   "cell_type": "code",
   "execution_count": 45,
   "id": "4995f3fd",
   "metadata": {},
   "outputs": [
    {
     "name": "stdout",
     "output_type": "stream",
     "text": [
      ">>>   This in Nites Shrestha   <<<\n"
     ]
    },
    {
     "data": {
      "text/plain": [
       "1"
      ]
     },
     "execution_count": 45,
     "metadata": {},
     "output_type": "execute_result"
    }
   ],
   "source": [
    "# return the number of times a value appears in a string \n",
    "# case-sensitive \n",
    "\n",
    "print(\">>>\" + message + \"<<<\")\n",
    "\n",
    "message.count(\"in\")"
   ]
  },
  {
   "cell_type": "code",
   "execution_count": 39,
   "id": "3c80464d",
   "metadata": {},
   "outputs": [
    {
     "data": {
      "text/plain": [
       "1"
      ]
     },
     "execution_count": 39,
     "metadata": {},
     "output_type": "execute_result"
    }
   ],
   "source": [
    "message.count(\"This\")"
   ]
  },
  {
   "cell_type": "markdown",
   "id": "fe81879c",
   "metadata": {},
   "source": [
    "### .replace()"
   ]
  },
  {
   "cell_type": "code",
   "execution_count": 46,
   "id": "28df8477",
   "metadata": {},
   "outputs": [
    {
     "name": "stdout",
     "output_type": "stream",
     "text": [
      ">>>   This in Nites Shrestha   <<<\n"
     ]
    },
    {
     "data": {
      "text/plain": [
       "'***This*in*Nites*Shrestha***'"
      ]
     },
     "execution_count": 46,
     "metadata": {},
     "output_type": "execute_result"
    }
   ],
   "source": [
    "# replace a specific value with another specific value\n",
    "\n",
    "print(\">>>\" + message + \"<<<\")\n",
    "\n",
    "# replace blank spaces with *\n",
    "\n",
    "message.replace(\" \", \"*\")"
   ]
  },
  {
   "cell_type": "code",
   "execution_count": 47,
   "id": "8858ab16",
   "metadata": {
    "scrolled": true
   },
   "outputs": [
    {
     "name": "stdout",
     "output_type": "stream",
     "text": [
      ">>>   This in Nites Shrestha   <<<\n"
     ]
    }
   ],
   "source": [
    "# changes are not permanent \n",
    "\n",
    "print(\">>>\" + message + \"<<<\")"
   ]
  },
  {
   "cell_type": "code",
   "execution_count": 48,
   "id": "d3a9b2f9",
   "metadata": {},
   "outputs": [
    {
     "name": "stdout",
     "output_type": "stream",
     "text": [
      "   This in Nites Shrestha   \n"
     ]
    }
   ],
   "source": [
    "print(message)"
   ]
  },
  {
   "cell_type": "markdown",
   "id": "a327066b",
   "metadata": {},
   "source": [
    "### Indexing Strings"
   ]
  },
  {
   "cell_type": "code",
   "execution_count": 24,
   "id": "f67b9f30",
   "metadata": {},
   "outputs": [
    {
     "data": {
      "text/plain": [
       "'x'"
      ]
     },
     "execution_count": 24,
     "metadata": {},
     "output_type": "execute_result"
    }
   ],
   "source": [
    "# indexing strings\n",
    "# accessing characters by index number \n",
    "\n",
    "# what character is in the 5th index poisiton?\n",
    "message = \"Indexing String\"\n",
    "message[4]"
   ]
  },
  {
   "cell_type": "code",
   "execution_count": 25,
   "id": "206c43f7",
   "metadata": {},
   "outputs": [
    {
     "data": {
      "text/plain": [
       "'S'"
      ]
     },
     "execution_count": 25,
     "metadata": {},
     "output_type": "execute_result"
    }
   ],
   "source": [
    "# indexing strings from back to front using negative numbers\n",
    "\n",
    "message[-6]"
   ]
  },
  {
   "cell_type": "code",
   "execution_count": 26,
   "id": "a894ac0a",
   "metadata": {},
   "outputs": [
    {
     "data": {
      "text/plain": [
       "'r'"
      ]
     },
     "execution_count": 26,
     "metadata": {},
     "output_type": "execute_result"
    }
   ],
   "source": [
    "message[11]"
   ]
  },
  {
   "cell_type": "markdown",
   "id": "6df3eaaf",
   "metadata": {},
   "source": [
    "### Exercise 2:\n",
    "\n",
    "Write a program to strip 4 lines of text of all white spaces. Return all lines of text in 'title case'. Replace all periods with exclamation points. \n",
    "\n",
    "    line 1 = \"  beautiful is better than ugly. \"\n",
    "    line 2 = \"   explicit is better than implicit. \"\n",
    "    line 3 = \"simple is better than complex.       \"\n",
    "    line 4 = \" complex is better than complicated.\"\n",
    "\n",
    "Result should be:\n",
    "\n",
    "    Beautiful Is Better Than Ugly!\n",
    "    Explicit Is Better Than Implicit!\n",
    "    Simple Is Better Than Complex!\n",
    "    Complex Is Better Than Complicated!"
   ]
  },
  {
   "cell_type": "code",
   "execution_count": 53,
   "id": "42ec1758",
   "metadata": {},
   "outputs": [],
   "source": [
    "line1 = \"  beautiful is better than ugly. \"\n",
    "line2 = \"   explicit is better than implicit. \"\n",
    "line3 = \"simple is better than complex.       \"\n",
    "line4 = \" complex is better than complicated.\""
   ]
  },
  {
   "cell_type": "code",
   "execution_count": 55,
   "id": "67f5a18b",
   "metadata": {},
   "outputs": [
    {
     "name": "stdout",
     "output_type": "stream",
     "text": [
      "beautiful is better than ugly.\n",
      "explicit is better than implicit.\n",
      "simple is better than complex.\n",
      "complex is better than complicated.\n"
     ]
    }
   ],
   "source": [
    "## stripping the white spaces from the strings\n",
    "\n",
    "line1 = line1.strip()\n",
    "line2 = line2.strip()\n",
    "line3 = line3.strip()\n",
    "line4 = line4.strip()\n",
    "\n",
    "print(line1)\n",
    "print(line2)\n",
    "print(line3)\n",
    "print(line4)"
   ]
  },
  {
   "cell_type": "code",
   "execution_count": 56,
   "id": "ab88a0fc",
   "metadata": {},
   "outputs": [
    {
     "name": "stdout",
     "output_type": "stream",
     "text": [
      "Beautiful Is Better Than Ugly.\n",
      "Explicit Is Better Than Implicit.\n",
      "Simple Is Better Than Complex.\n",
      "Complex Is Better Than Complicated.\n"
     ]
    }
   ],
   "source": [
    "## convert all strings to title case\n",
    "\n",
    "line1 = line1.title()\n",
    "line2 = line2.title()\n",
    "line3 = line3.title()\n",
    "line4 = line4.title()\n",
    "\n",
    "print(line1)\n",
    "print(line2)\n",
    "print(line3)\n",
    "print(line4)"
   ]
  },
  {
   "cell_type": "code",
   "execution_count": 57,
   "id": "b578ea0e",
   "metadata": {},
   "outputs": [
    {
     "name": "stdout",
     "output_type": "stream",
     "text": [
      "Beautiful Is Better Than Ugly!\n",
      "Explicit Is Better Than Implicit!\n",
      "Simple Is Better Than Complex!\n",
      "Complex Is Better Than Complicated!\n"
     ]
    }
   ],
   "source": [
    "## convert periods to \"!\"\n",
    "\n",
    "line1 = line1.replace(\".\", \"!\")\n",
    "line2 = line2.replace(\".\", \"!\")\n",
    "line3 = line3.replace(\".\", \"!\")\n",
    "line4 = line4.replace(\".\", \"!\")\n",
    "\n",
    "print(line1)\n",
    "print(line2)\n",
    "print(line3)\n",
    "print(line4)"
   ]
  },
  {
   "cell_type": "code",
   "execution_count": 58,
   "id": "c99f5fd3",
   "metadata": {},
   "outputs": [
    {
     "name": "stdout",
     "output_type": "stream",
     "text": [
      "Beautiful Is Better Than Ugly!\n",
      "Explicit Is Better Than Implicit!\n",
      "Simple Is Better Than Complex!\n",
      "Complex Is Better Than Complicated!\n"
     ]
    }
   ],
   "source": [
    "## print using formatted string\n",
    "\n",
    "print(f\"{line1}\\n{line2}\\n{line3}\\n{line4}\")"
   ]
  },
  {
   "cell_type": "code",
   "execution_count": 59,
   "id": "11f4331d",
   "metadata": {},
   "outputs": [
    {
     "name": "stdout",
     "output_type": "stream",
     "text": [
      "Beautiful Is Better Than Ugly!\n",
      "Explicit Is Better Than Implicit!\n",
      "Simple Is Better Than Complex!\n",
      "Complex Is Better Than Complicated!\n"
     ]
    }
   ],
   "source": [
    "## print the results of these changes\n",
    "print(line1)\n",
    "print(line2)\n",
    "print(line3)\n",
    "print(line4)"
   ]
  },
  {
   "cell_type": "code",
   "execution_count": null,
   "id": "d33dd92b",
   "metadata": {},
   "outputs": [],
   "source": []
  },
  {
   "cell_type": "code",
   "execution_count": null,
   "id": "ee6f954e",
   "metadata": {},
   "outputs": [],
   "source": []
  }
 ],
 "metadata": {
  "kernelspec": {
   "display_name": "Python 3 (ipykernel)",
   "language": "python",
   "name": "python3"
  },
  "language_info": {
   "codemirror_mode": {
    "name": "ipython",
    "version": 3
   },
   "file_extension": ".py",
   "mimetype": "text/x-python",
   "name": "python",
   "nbconvert_exporter": "python",
   "pygments_lexer": "ipython3",
   "version": "3.9.7"
  }
 },
 "nbformat": 4,
 "nbformat_minor": 5
}
